{
 "cells": [
  {
   "cell_type": "code",
   "execution_count": 2,
   "metadata": {},
   "outputs": [
    {
     "name": "stdout",
     "output_type": "stream",
     "text": [
      "Note: you may need to restart the kernel to use updated packages.\n"
     ]
    },
    {
     "name": "stderr",
     "output_type": "stream",
     "text": [
      "ERROR: Could not find a version that satisfies the requirement steamlit (from versions: none)\n",
      "ERROR: No matching distribution found for steamlit\n"
     ]
    }
   ],
   "source": [
    "pip install steamlit"
   ]
  },
  {
   "cell_type": "code",
   "execution_count": 3,
   "metadata": {},
   "outputs": [
    {
     "name": "stdout",
     "output_type": "stream",
     "text": [
      "Requirement already satisfied: streamlit in c:\\users\\student\\anaconda3\\lib\\site-packages (1.20.0)\n",
      "Requirement already satisfied: pyarrow>=4.0 in c:\\users\\student\\anaconda3\\lib\\site-packages (from streamlit) (11.0.0)\n",
      "Requirement already satisfied: click>=7.0 in c:\\users\\student\\anaconda3\\lib\\site-packages (from streamlit) (7.1.2)\n",
      "Requirement already satisfied: importlib-metadata>=1.4 in c:\\users\\student\\anaconda3\\lib\\site-packages (from streamlit) (1.7.0)\n",
      "Requirement already satisfied: altair<5,>=3.2.0 in c:\\users\\student\\anaconda3\\lib\\site-packages (from streamlit) (4.2.2)\n",
      "Requirement already satisfied: semver in c:\\users\\student\\anaconda3\\lib\\site-packages (from streamlit) (3.0.0)\n",
      "Requirement already satisfied: rich>=10.11.0 in c:\\users\\student\\anaconda3\\lib\\site-packages (from streamlit) (13.3.3)\n",
      "Requirement already satisfied: numpy in c:\\users\\student\\appdata\\roaming\\python\\python38\\site-packages (from streamlit) (1.18.2)\n",
      "Requirement already satisfied: packaging>=14.1 in c:\\users\\student\\anaconda3\\lib\\site-packages (from streamlit) (20.4)\n",
      "Requirement already satisfied: validators>=0.2 in c:\\users\\student\\anaconda3\\lib\\site-packages (from streamlit) (0.20.0)\n",
      "Note: you may need to restart the kernel to use updated packages.Requirement already satisfied: tornado>=6.0.3 in c:\\users\\student\\anaconda3\\lib\\site-packages (from streamlit) (6.0.4)\n",
      "Requirement already satisfied: typing-extensions>=3.10.0.0 in c:\\users\\student\\anaconda3\\lib\\site-packages (from streamlit) (4.5.0)\n",
      "Requirement already satisfied: blinker>=1.0.0 in c:\\users\\student\\anaconda3\\lib\\site-packages (from streamlit) (1.6)\n",
      "Requirement already satisfied: watchdog; platform_system != \"Darwin\" in c:\\users\\student\\anaconda3\\lib\\site-packages (from streamlit) (0.10.3)\n",
      "Requirement already satisfied: gitpython!=3.1.19 in c:\\users\\student\\anaconda3\\lib\\site-packages (from streamlit) (3.1.31)\n",
      "Requirement already satisfied: pandas<2,>=0.25 in c:\\users\\student\\anaconda3\\lib\\site-packages (from streamlit) (1.0.5)\n",
      "\n",
      "Requirement already satisfied: cachetools>=4.0 in c:\\users\\student\\anaconda3\\lib\\site-packages (from streamlit) (5.3.0)\n",
      "Requirement already satisfied: pillow>=6.2.0 in c:\\users\\student\\anaconda3\\lib\\site-packages (from streamlit) (7.2.0)\n",
      "Requirement already satisfied: requests>=2.4 in c:\\users\\student\\anaconda3\\lib\\site-packages (from streamlit) (2.24.0)\n",
      "Requirement already satisfied: protobuf<4,>=3.12 in c:\\users\\student\\anaconda3\\lib\\site-packages (from streamlit) (3.19.6)\n",
      "Requirement already satisfied: pympler>=0.9 in c:\\users\\student\\anaconda3\\lib\\site-packages (from streamlit) (1.0.1)\n",
      "Requirement already satisfied: tzlocal>=1.1 in c:\\users\\student\\anaconda3\\lib\\site-packages (from streamlit) (4.3)\n",
      "Requirement already satisfied: toml in c:\\users\\student\\anaconda3\\lib\\site-packages (from streamlit) (0.10.1)\n",
      "Requirement already satisfied: pydeck>=0.1.dev5 in c:\\users\\student\\anaconda3\\lib\\site-packages (from streamlit) (0.8.0)\n",
      "Requirement already satisfied: python-dateutil in c:\\users\\student\\anaconda3\\lib\\site-packages (from streamlit) (2.8.1)\n",
      "Requirement already satisfied: zipp>=0.5 in c:\\users\\student\\anaconda3\\lib\\site-packages (from importlib-metadata>=1.4->streamlit) (3.1.0)\n",
      "Requirement already satisfied: toolz in c:\\users\\student\\anaconda3\\lib\\site-packages (from altair<5,>=3.2.0->streamlit) (0.10.0)\n",
      "Requirement already satisfied: jsonschema>=3.0 in c:\\users\\student\\anaconda3\\lib\\site-packages (from altair<5,>=3.2.0->streamlit) (3.2.0)\n",
      "Requirement already satisfied: jinja2 in c:\\users\\student\\anaconda3\\lib\\site-packages (from altair<5,>=3.2.0->streamlit) (2.11.2)\n",
      "Requirement already satisfied: entrypoints in c:\\users\\student\\anaconda3\\lib\\site-packages (from altair<5,>=3.2.0->streamlit) (0.3)\n",
      "Requirement already satisfied: pygments<3.0.0,>=2.13.0 in c:\\users\\student\\anaconda3\\lib\\site-packages (from rich>=10.11.0->streamlit) (2.14.0)\n",
      "Requirement already satisfied: markdown-it-py<3.0.0,>=2.2.0 in c:\\users\\student\\anaconda3\\lib\\site-packages (from rich>=10.11.0->streamlit) (2.2.0)\n",
      "Requirement already satisfied: pyparsing>=2.0.2 in c:\\users\\student\\anaconda3\\lib\\site-packages (from packaging>=14.1->streamlit) (2.4.7)\n",
      "Requirement already satisfied: six in c:\\users\\student\\anaconda3\\lib\\site-packages (from packaging>=14.1->streamlit) (1.15.0)\n",
      "Requirement already satisfied: decorator>=3.4.0 in c:\\users\\student\\anaconda3\\lib\\site-packages (from validators>=0.2->streamlit) (4.4.2)\n",
      "Requirement already satisfied: pathtools>=0.1.1 in c:\\users\\student\\anaconda3\\lib\\site-packages (from watchdog; platform_system != \"Darwin\"->streamlit) (0.1.2)\n",
      "Requirement already satisfied: gitdb<5,>=4.0.1 in c:\\users\\student\\anaconda3\\lib\\site-packages (from gitpython!=3.1.19->streamlit) (4.0.10)\n",
      "Requirement already satisfied: pytz>=2017.2 in c:\\users\\student\\anaconda3\\lib\\site-packages (from pandas<2,>=0.25->streamlit) (2020.1)\n",
      "Requirement already satisfied: idna<3,>=2.5 in c:\\users\\student\\anaconda3\\lib\\site-packages (from requests>=2.4->streamlit) (2.10)\n",
      "Requirement already satisfied: urllib3!=1.25.0,!=1.25.1,<1.26,>=1.21.1 in c:\\users\\student\\anaconda3\\lib\\site-packages (from requests>=2.4->streamlit) (1.25.9)\n",
      "Requirement already satisfied: chardet<4,>=3.0.2 in c:\\users\\student\\anaconda3\\lib\\site-packages (from requests>=2.4->streamlit) (3.0.4)\n",
      "Requirement already satisfied: certifi>=2017.4.17 in c:\\users\\student\\anaconda3\\lib\\site-packages (from requests>=2.4->streamlit) (2020.6.20)\n",
      "Requirement already satisfied: pytz-deprecation-shim in c:\\users\\student\\anaconda3\\lib\\site-packages (from tzlocal>=1.1->streamlit) (0.1.0.post0)\n",
      "Requirement already satisfied: backports.zoneinfo; python_version < \"3.9\" in c:\\users\\student\\anaconda3\\lib\\site-packages (from tzlocal>=1.1->streamlit) (0.2.1)\n",
      "Requirement already satisfied: tzdata; platform_system == \"Windows\" in c:\\users\\student\\anaconda3\\lib\\site-packages (from tzlocal>=1.1->streamlit) (2023.3)\n",
      "Requirement already satisfied: attrs>=17.4.0 in c:\\users\\student\\anaconda3\\lib\\site-packages (from jsonschema>=3.0->altair<5,>=3.2.0->streamlit) (19.3.0)\n",
      "Requirement already satisfied: pyrsistent>=0.14.0 in c:\\users\\student\\anaconda3\\lib\\site-packages (from jsonschema>=3.0->altair<5,>=3.2.0->streamlit) (0.16.0)\n",
      "Requirement already satisfied: setuptools in c:\\users\\student\\anaconda3\\lib\\site-packages (from jsonschema>=3.0->altair<5,>=3.2.0->streamlit) (49.2.0.post20200714)\n",
      "Requirement already satisfied: MarkupSafe>=0.23 in c:\\users\\student\\anaconda3\\lib\\site-packages (from jinja2->altair<5,>=3.2.0->streamlit) (1.1.1)\n",
      "Requirement already satisfied: mdurl~=0.1 in c:\\users\\student\\anaconda3\\lib\\site-packages (from markdown-it-py<3.0.0,>=2.2.0->rich>=10.11.0->streamlit) (0.1.2)\n",
      "Requirement already satisfied: smmap<6,>=3.0.1 in c:\\users\\student\\anaconda3\\lib\\site-packages (from gitdb<5,>=4.0.1->gitpython!=3.1.19->streamlit) (5.0.0)\n"
     ]
    }
   ],
   "source": [
    "pip install streamlit"
   ]
  },
  {
   "cell_type": "code",
   "execution_count": 4,
   "metadata": {},
   "outputs": [],
   "source": [
    "import os"
   ]
  },
  {
   "cell_type": "code",
   "execution_count": 5,
   "metadata": {},
   "outputs": [
    {
     "data": {
      "text/plain": [
       "'C:\\\\Users\\\\Student'"
      ]
     },
     "execution_count": 5,
     "metadata": {},
     "output_type": "execute_result"
    }
   ],
   "source": [
    "os.getcwd()"
   ]
  },
  {
   "cell_type": "code",
   "execution_count": null,
   "metadata": {},
   "outputs": [],
   "source": [
    "C:/Users/Student"
   ]
  }
 ],
 "metadata": {
  "kernelspec": {
   "display_name": "Python 3",
   "language": "python",
   "name": "python3"
  },
  "language_info": {
   "codemirror_mode": {
    "name": "ipython",
    "version": 3
   },
   "file_extension": ".py",
   "mimetype": "text/x-python",
   "name": "python",
   "nbconvert_exporter": "python",
   "pygments_lexer": "ipython3",
   "version": "3.8.3"
  }
 },
 "nbformat": 4,
 "nbformat_minor": 4
}
