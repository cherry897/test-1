{
 "cells": [
  {
   "cell_type": "code",
   "execution_count": 3,
   "metadata": {},
   "outputs": [
    {
     "data": {
      "application/vnd.jupyter.widget-view+json": {
       "model_id": "3bc38110fbc7436fa4fade2434e9e409",
       "version_major": 2,
       "version_minor": 0
      },
      "text/plain": [
       "FloatSlider(value=7.5, description='Test:', max=10.0, min=5.0)"
      ]
     },
     "metadata": {},
     "output_type": "display_data"
    },
    {
     "data": {
      "text/plain": [
       "7.5"
      ]
     },
     "execution_count": 3,
     "metadata": {},
     "output_type": "execute_result"
    }
   ],
   "source": [
    "import ipywidgets as widgets\n",
    "j= widgets.FloatSlider(value=7.5,min=5.0,max=10,step=0.1,description='Test:')\n",
    "display(j)\n",
    "j.value"
   ]
  },
  {
   "cell_type": "code",
   "execution_count": 2,
   "metadata": {},
   "outputs": [
    {
     "data": {
      "application/vnd.jupyter.widget-view+json": {
       "model_id": "f83261116e744525ab05b27216a3369c",
       "version_major": 2,
       "version_minor": 0
      },
      "text/plain": [
       "IntSlider(value=40, max=70, min=30)"
      ]
     },
     "metadata": {},
     "output_type": "display_data"
    }
   ],
   "source": [
    "w = widgets.IntSlider(40,30,70)\n",
    "display(w)"
   ]
  },
  {
   "cell_type": "code",
   "execution_count": 4,
   "metadata": {},
   "outputs": [
    {
     "data": {
      "application/vnd.jupyter.widget-view+json": {
       "model_id": "cf58889e76d34bbe9aba50c94cae643b",
       "version_major": 2,
       "version_minor": 0
      },
      "text/plain": [
       "FloatSlider(value=7.5, description='Test:', max=33.0, min=3.0, step=3.0)"
      ]
     },
     "metadata": {},
     "output_type": "display_data"
    },
    {
     "data": {
      "text/plain": [
       "7.5"
      ]
     },
     "execution_count": 4,
     "metadata": {},
     "output_type": "execute_result"
    }
   ],
   "source": [
    "import ipywidgets as widgets\n",
    "j= widgets.FloatSlider(value=7.5,min=3,max=33,step=3,description='Test:')\n",
    "display(j)\n",
    "j.value"
   ]
  },
  {
   "cell_type": "code",
   "execution_count": 5,
   "metadata": {},
   "outputs": [
    {
     "data": {
      "application/vnd.jupyter.widget-view+json": {
       "model_id": "d8d925a21a544f97abdff2f1cd733932",
       "version_major": 2,
       "version_minor": 0
      },
      "text/plain": [
       "FloatSlider(value=7.5, description='Test:', max=33.0, min=3.0, orientation='vertical', step=3.0)"
      ]
     },
     "metadata": {},
     "output_type": "display_data"
    },
    {
     "data": {
      "text/plain": [
       "7.5"
      ]
     },
     "execution_count": 5,
     "metadata": {},
     "output_type": "execute_result"
    }
   ],
   "source": [
    "ho= widgets.FloatSlider(value=7.5,min=3,max=33,step=3,description='Test:', orientation='vertical')\n",
    "display(ho)\n",
    "ho.value"
   ]
  },
  {
   "cell_type": "code",
   "execution_count": 6,
   "metadata": {},
   "outputs": [
    {
     "data": {
      "application/vnd.jupyter.widget-view+json": {
       "model_id": "2b2917c2a0d64b30853c66ed09170246",
       "version_major": 2,
       "version_minor": 0
      },
      "text/plain": [
       "FloatProgress(value=5.0, description='Loading', max=10.0, min=1.0)"
      ]
     },
     "metadata": {},
     "output_type": "display_data"
    }
   ],
   "source": [
    "widgets.FloatProgress(value=5,min=1.0,max=10.0,step=0.1,description='Loading')"
   ]
  },
  {
   "cell_type": "code",
   "execution_count": 10,
   "metadata": {},
   "outputs": [
    {
     "data": {
      "application/vnd.jupyter.widget-view+json": {
       "model_id": "1f9be667c133479fb8be542c4316b0e5",
       "version_major": 2,
       "version_minor": 0
      },
      "text/plain": [
       "interactive(children=(FloatSlider(value=0.0, description='x'), IntSlider(value=0, description='y'), Output()),…"
      ]
     },
     "metadata": {},
     "output_type": "display_data"
    },
    {
     "data": {
      "text/plain": [
       "<function __main__.f(x, y)>"
      ]
     },
     "execution_count": 10,
     "metadata": {},
     "output_type": "execute_result"
    }
   ],
   "source": [
    "def f(x,y):\n",
    "    print(x+y)\n",
    "widgets.interact(f,x=widgets.FloatSlider(),y=widgets.IntSlider()) "
   ]
  },
  {
   "cell_type": "code",
   "execution_count": 13,
   "metadata": {},
   "outputs": [
    {
     "data": {
      "application/vnd.jupyter.widget-view+json": {
       "model_id": "73f8eddfc97a4716bb27f0ce092e860f",
       "version_major": 2,
       "version_minor": 0
      },
      "text/plain": [
       "interactive(children=(FloatSlider(value=0.0, description='x'), IntSlider(value=0, description='y'), IntSlider(…"
      ]
     },
     "metadata": {},
     "output_type": "display_data"
    },
    {
     "data": {
      "text/plain": [
       "<function __main__.f(x, y, z)>"
      ]
     },
     "execution_count": 13,
     "metadata": {},
     "output_type": "execute_result"
    }
   ],
   "source": [
    "def f(x,y,z):\n",
    "    print(x**2+y**2+z**2)\n",
    "widgets.interact(f,x=widgets.FloatSlider(),y=widgets.IntSlider(),z=widgets.IntSlider())"
   ]
  },
  {
   "cell_type": "code",
   "execution_count": 15,
   "metadata": {},
   "outputs": [
    {
     "data": {
      "application/vnd.jupyter.widget-view+json": {
       "model_id": "93b2bb01dd644828966b46065ee3fea0",
       "version_major": 2,
       "version_minor": 0
      },
      "text/plain": [
       "IntSlider(value=0)"
      ]
     },
     "metadata": {},
     "output_type": "display_data"
    },
    {
     "data": {
      "application/vnd.jupyter.widget-view+json": {
       "model_id": "274850e5731a4f7a8f3ae5641f4bec09",
       "version_major": 2,
       "version_minor": 0
      },
      "text/plain": [
       "FloatSlider(value=0.0)"
      ]
     },
     "metadata": {},
     "output_type": "display_data"
    },
    {
     "data": {
      "application/vnd.jupyter.widget-view+json": {
       "model_id": "9d7f9c58d6ad41288fe6ff3190a08309",
       "version_major": 2,
       "version_minor": 0
      },
      "text/plain": [
       "Button(description='Submit', style=ButtonStyle())"
      ]
     },
     "metadata": {},
     "output_type": "display_data"
    }
   ],
   "source": [
    "def f(x,y):\n",
    "    print(x+y)\n",
    "x=widgets.IntSlider()\n",
    "y=widgets.FloatSlider()\n",
    "h=widgets.Button(description='Submit')\n",
    "\n",
    "def inet(self):\n",
    "    widgets.interact(f,x=x,y=y)\n",
    "h.on_click(inet)\n",
    "display(x)\n",
    "display(y)\n",
    "display(h)"
   ]
  },
  {
   "cell_type": "code",
   "execution_count": 51,
   "metadata": {},
   "outputs": [
    {
     "data": {
      "application/vnd.jupyter.widget-view+json": {
       "model_id": "6a0b6045e20f455c8cf8080643a6c81a",
       "version_major": 2,
       "version_minor": 0
      },
      "text/plain": [
       "Button(description='Greet', style=ButtonStyle())"
      ]
     },
     "metadata": {},
     "output_type": "display_data"
    }
   ],
   "source": [
    "def greet(self):\n",
    "    print(\"Hello\")\n",
    "h=widgets.Button(description=\"Greet\")\n",
    "display(h)\n",
    "h.on_click(greet)"
   ]
  },
  {
   "cell_type": "code",
   "execution_count": 37,
   "metadata": {},
   "outputs": [
    {
     "data": {
      "application/vnd.jupyter.widget-view+json": {
       "model_id": "7ff6ce69f7184a31b7a46d38ca65d2e2",
       "version_major": 2,
       "version_minor": 0
      },
      "text/plain": [
       "FloatSlider(value=0.0)"
      ]
     },
     "metadata": {},
     "output_type": "display_data"
    },
    {
     "data": {
      "application/vnd.jupyter.widget-view+json": {
       "model_id": "19b29a79a28d43d78890c7f7a848917a",
       "version_major": 2,
       "version_minor": 0
      },
      "text/plain": [
       "FloatSlider(value=0.0)"
      ]
     },
     "metadata": {},
     "output_type": "display_data"
    },
    {
     "data": {
      "application/vnd.jupyter.widget-view+json": {
       "model_id": "8225a3d8dc944ef69c7da72b38d0647d",
       "version_major": 2,
       "version_minor": 0
      },
      "text/plain": [
       "FloatSlider(value=0.0)"
      ]
     },
     "metadata": {},
     "output_type": "display_data"
    },
    {
     "data": {
      "application/vnd.jupyter.widget-view+json": {
       "model_id": "bf52e0d96d34417580e5e02874e4ef1e",
       "version_major": 2,
       "version_minor": 0
      },
      "text/plain": [
       "Button(description='Submit', style=ButtonStyle())"
      ]
     },
     "metadata": {},
     "output_type": "display_data"
    }
   ],
   "source": [
    "x=widgets.FloatSlider()\n",
    "y=widgets.FloatSlider()\n",
    "z=widgets.FloatSlider()\n",
    "k=widgets.Button(description=\"Submit\")\n",
    "def eq1(self):\n",
    "    print(2*y.value+(8/x.value)+z.value**2)\n",
    "display(x)\n",
    "display(y)\n",
    "display(z)\n",
    "display(k)\n",
    "k.on_click(eq1)"
   ]
  },
  {
   "cell_type": "code",
   "execution_count": 40,
   "metadata": {},
   "outputs": [
    {
     "data": {
      "application/vnd.jupyter.widget-view+json": {
       "model_id": "1106b63adcf14e66a79fcd36ebcd5fa8",
       "version_major": 2,
       "version_minor": 0
      },
      "text/plain": [
       "FloatSlider(value=0.0)"
      ]
     },
     "metadata": {},
     "output_type": "display_data"
    },
    {
     "data": {
      "application/vnd.jupyter.widget-view+json": {
       "model_id": "2c32a2cd199e43b186be6b51ee345db4",
       "version_major": 2,
       "version_minor": 0
      },
      "text/plain": [
       "FloatSlider(value=0.0)"
      ]
     },
     "metadata": {},
     "output_type": "display_data"
    },
    {
     "data": {
      "application/vnd.jupyter.widget-view+json": {
       "model_id": "11764e3246df45029c4b4b6c46d87b2c",
       "version_major": 2,
       "version_minor": 0
      },
      "text/plain": [
       "FloatSlider(value=0.0)"
      ]
     },
     "metadata": {},
     "output_type": "display_data"
    },
    {
     "data": {
      "application/vnd.jupyter.widget-view+json": {
       "model_id": "92fcf72dd0b54c309522b6d4f990a1dd",
       "version_major": 2,
       "version_minor": 0
      },
      "text/plain": [
       "Button(description='Submit', style=ButtonStyle())"
      ]
     },
     "metadata": {},
     "output_type": "display_data"
    }
   ],
   "source": [
    "x=widgets.FloatSlider()\n",
    "y=widgets.FloatSlider()\n",
    "z=widgets.FloatSlider()\n",
    "k=widgets.Button(description=\"Submit\")\n",
    "def eq1(self):\n",
    "    print(a.value**3+b.value**2+c.value**4+z.value**(-2))\n",
    "display(x)\n",
    "display(y)\n",
    "display(z)\n",
    "display(k)\n",
    "k.on_click(eq1)"
   ]
  },
  {
   "cell_type": "code",
   "execution_count": 41,
   "metadata": {},
   "outputs": [
    {
     "data": {
      "application/vnd.jupyter.widget-view+json": {
       "model_id": "d321c094fcfa4f42b2bc419d2da2344b",
       "version_major": 2,
       "version_minor": 0
      },
      "text/plain": [
       "HBox(children=(FloatSlider(value=0.0), FloatSlider(value=0.0), FloatSlider(value=0.0), Button(description='Sub…"
      ]
     },
     "metadata": {},
     "output_type": "display_data"
    }
   ],
   "source": [
    "x=widgets.FloatSlider()\n",
    "y=widgets.FloatSlider()\n",
    "z=widgets.FloatSlider()\n",
    "k=widgets.Button(description=\"Submit\")\n",
    "def eq1(self):\n",
    "    print(2*y.value+(8/x.value)+z.value**2)\n",
    "f=widgets.HBox([x,y,z,k])\n",
    "display(f)\n",
    "k.on_click(eq1)"
   ]
  },
  {
   "cell_type": "code",
   "execution_count": 42,
   "metadata": {},
   "outputs": [
    {
     "data": {
      "application/vnd.jupyter.widget-view+json": {
       "model_id": "f148ed23472f45379ee192eeacaf2d06",
       "version_major": 2,
       "version_minor": 0
      },
      "text/plain": [
       "VBox(children=(FloatSlider(value=0.0), FloatSlider(value=0.0), FloatSlider(value=0.0), Button(description='Sub…"
      ]
     },
     "metadata": {},
     "output_type": "display_data"
    }
   ],
   "source": [
    "x=widgets.FloatSlider()\n",
    "y=widgets.FloatSlider()\n",
    "z=widgets.FloatSlider()\n",
    "k=widgets.Button(description=\"Submit\")\n",
    "def eq1(self):\n",
    "    print(2*y.value+(8/x.value)+z.value**2)\n",
    "f=widgets.VBox([x,y,z,k])\n",
    "display(f)\n",
    "k.on_click(eq1)"
   ]
  },
  {
   "cell_type": "code",
   "execution_count": 46,
   "metadata": {},
   "outputs": [
    {
     "data": {
      "application/vnd.jupyter.widget-view+json": {
       "model_id": "0a9cc4fdd722461b93166bea4b420115",
       "version_major": 2,
       "version_minor": 0
      },
      "text/plain": [
       "Text(value='Hello World', description='String')"
      ]
     },
     "metadata": {},
     "output_type": "display_data"
    }
   ],
   "source": [
    "h=widgets.Text(description='String',value='Hello World')\n",
    "display(h)"
   ]
  },
  {
   "cell_type": "code",
   "execution_count": 50,
   "metadata": {},
   "outputs": [
    {
     "data": {
      "application/vnd.jupyter.widget-view+json": {
       "model_id": "9929b34bb2644347adc87b7d9a54d1b5",
       "version_major": 2,
       "version_minor": 0
      },
      "text/plain": [
       "Text(value='', description='Name')"
      ]
     },
     "metadata": {},
     "output_type": "display_data"
    },
    {
     "data": {
      "application/vnd.jupyter.widget-view+json": {
       "model_id": "d44be7faa67946449b92bb75de4c5e7d",
       "version_major": 2,
       "version_minor": 0
      },
      "text/plain": [
       "Button(description='Greet', style=ButtonStyle())"
      ]
     },
     "metadata": {},
     "output_type": "display_data"
    }
   ],
   "source": [
    "y=widgets.Text(description='Name')\n",
    "def greet(self):\n",
    "    print(\"Hello\"+str(y.value))\n",
    "h=widgets.Button(description=\"Greet\")\n",
    "display(y)\n",
    "display(h)\n",
    "h.on_click(greet)"
   ]
  },
  {
   "cell_type": "code",
   "execution_count": 52,
   "metadata": {},
   "outputs": [
    {
     "data": {
      "application/vnd.jupyter.widget-view+json": {
       "model_id": "dee0abc1754f4d4dbe0fdccf5a319e88",
       "version_major": 2,
       "version_minor": 0
      },
      "text/plain": [
       "RadioButtons(description='Pizza Toppings:', options=('Pepperoni', 'Pineapple', 'Anchovies'), value='Pepperoni'…"
      ]
     },
     "metadata": {},
     "output_type": "display_data"
    }
   ],
   "source": [
    "widgets.RadioButtons(\n",
    "    description=\"Pizza Toppings:\",\n",
    "    options=[\"Pepperoni\", \"Pineapple\", \"Anchovies\"])"
   ]
  },
  {
   "cell_type": "code",
   "execution_count": 55,
   "metadata": {},
   "outputs": [
    {
     "data": {
      "application/vnd.jupyter.widget-view+json": {
       "model_id": "088e3030c2184a79a4690e8ab96f2fac",
       "version_major": 2,
       "version_minor": 0
      },
      "text/plain": [
       "VBox(children=(HBox(children=(FloatSlider(value=0.0), FloatSlider(value=0.0), RadioButtons(description='choose…"
      ]
     },
     "metadata": {},
     "output_type": "display_data"
    }
   ],
   "source": [
    "g=widgets.RadioButtons(description=\"choose:\",options=[\"add\",\"sub\",\"multiply\"])\n",
    "j=widgets.Button(description=\"Submit\")\n",
    "k=widgets.FloatSlider()\n",
    "s=widgets.FloatSlider()\n",
    "d=widgets.VBox([widgets.HBox([k,s,g]),j])\n",
    "display(d)\n",
    "def eq(self):\n",
    "    if g.value==\"add\":\n",
    "        print(k.value+s.value)\n",
    "    elif g.value==\"sub\":\n",
    "        print(k.value-s.value)\n",
    "    elif g.value==\"multiply\":\n",
    "        print(k.value*s.value)\n",
    "j.on_click(eq)"
   ]
  },
  {
   "cell_type": "code",
   "execution_count": 63,
   "metadata": {},
   "outputs": [
    {
     "data": {
      "application/vnd.jupyter.widget-view+json": {
       "model_id": "097fa182aaf144d083dbfa0baa9640ff",
       "version_major": 2,
       "version_minor": 0
      },
      "text/plain": [
       "FloatText(value=0.0, description='Income')"
      ]
     },
     "metadata": {},
     "output_type": "display_data"
    },
    {
     "data": {
      "application/vnd.jupyter.widget-view+json": {
       "model_id": "3f970e29092840a7ac49254c464d6b11",
       "version_major": 2,
       "version_minor": 0
      },
      "text/plain": [
       "Button(description='Tax', style=ButtonStyle())"
      ]
     },
     "metadata": {},
     "output_type": "display_data"
    },
    {
     "name": "stdout",
     "output_type": "stream",
     "text": [
      "Tax Amount:0.125\n"
     ]
    }
   ],
   "source": [
    "I=widgets.FloatText(description=\"Income\")\n",
    "def it(self):\n",
    "    i=I.value/100000\n",
    "    if i>0 and i<=2.5:\n",
    "        z=i*0\n",
    "    elif i>2.5 and i<=5:\n",
    "        z=(i-2.5)*0.05\n",
    "    elif i>5 and i<=7.5:\n",
    "        z=(i-5)*0.1+(2.5)*0.05\n",
    "    elif i>7.5 and i<=10:\n",
    "        z=(i-7.5)*0.15+(5)*0.1+(2.5)*0.05\n",
    "    elif i>10 and i<=12.5:\n",
    "        z=(i-10)*0.2+(7.5)*0.15+(5)*0.1+(2.5)*0.05\n",
    "    elif i>12.5 and i<=15:\n",
    "        z=(i-12.5)*0.25+(10)*0.2+(7.5)*0.15+(5)*0.1+(2.5)*0.05\n",
    "    elif i>15:\n",
    "        z=(i-15)*0.3+(12.5)*0.25+(10)*0.2+(7.5)*0.15+(5)*0.1+(2.5)*0.05\n",
    "    print(\"Tax Amount:\"+str(z))\n",
    "h=widgets.Button(description=\"Tax\")\n",
    "display(I)\n",
    "display(h)\n",
    "h.on_click(it)"
   ]
  },
  {
   "cell_type": "code",
   "execution_count": null,
   "metadata": {},
   "outputs": [],
   "source": []
  }
 ],
 "metadata": {
  "kernelspec": {
   "display_name": "Python 3",
   "language": "python",
   "name": "python3"
  },
  "language_info": {
   "codemirror_mode": {
    "name": "ipython",
    "version": 3
   },
   "file_extension": ".py",
   "mimetype": "text/x-python",
   "name": "python",
   "nbconvert_exporter": "python",
   "pygments_lexer": "ipython3",
   "version": "3.8.3"
  }
 },
 "nbformat": 4,
 "nbformat_minor": 4
}
